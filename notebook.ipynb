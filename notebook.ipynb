{
 "cells": [
  {
   "cell_type": "markdown",
   "source": "# Intro",
   "metadata": {
    "tags": [],
    "cell_id": "00000-9e9fd194-f6a5-4de1-8b4d-9b6fb880a235",
    "output_cleared": false,
    "deepnote_cell_type": "markdown"
   }
  },
  {
   "cell_type": "markdown",
   "source": "Hey everyone! This is an introduction to creating your own dataset using [Selenium](https://selenium-python.readthedocs.io/). This notebook's objective is to show you that you don't have to wait until a dataset that looks interesting pops up on Kaggle to start working with data. It is useful and not difficult to begin collecting your own data from the internet using various web scraping tools.",
   "metadata": {
    "tags": [],
    "cell_id": "00001-3ab1d776-bc2b-41e8-a4c3-139da3d7b94d",
    "output_cleared": false,
    "deepnote_cell_type": "markdown"
   }
  },
  {
   "cell_type": "markdown",
   "source": "If you are using Selenium in Deepnote instead of locally, make sure to add these lines to the `__init__.ipynb`.",
   "metadata": {
    "tags": [],
    "cell_id": "00002-80377ea0-1415-4f50-97a3-dea3c0c3d93e",
    "output_cleared": false,
    "deepnote_cell_type": "markdown"
   }
  },
  {
   "cell_type": "code",
   "metadata": {
    "tags": [],
    "cell_id": "00003-b2697543-7d17-4a27-8c3e-8b1ee67da675",
    "deepnote_to_be_reexecuted": false,
    "source_hash": "5c016ecc",
    "execution_start": 1632151308785,
    "execution_millis": 2,
    "deepnote_cell_type": "code"
   },
   "source": "#%%bash\n#sudo apt-get update\n#sudo apt-get install chromium-driver -y",
   "outputs": [],
   "execution_count": null
  },
  {
   "cell_type": "markdown",
   "source": "**Firstly, why Selenium?**\n\n\nI recommend Selenium for web scraping because it's a lot more robust than other solutions. Tools like [Beautifulsoup](https://beautiful-soup-4.readthedocs.io/en/latest/) are useful as HTML parsers. However, they cannot automate the whole browser like selenium can. This leads to benefits like scraping with just one library instead of multiple ones, like [bs4](https://pypi.org/project/beautifulsoup4/) and [requests](https://realpython.com/python-requests/). It also means you can handle dynamically loaded content.",
   "metadata": {
    "tags": [],
    "cell_id": "00003-5a321a82-ee39-4b19-8711-cb17ab22e692",
    "output_cleared": false,
    "deepnote_cell_type": "markdown"
   }
  },
  {
   "cell_type": "code",
   "metadata": {
    "tags": [],
    "cell_id": "00002-942a3259-ebbf-42c1-a7e7-2f047033f6fc",
    "output_cleared": false,
    "source_hash": "12127e63",
    "execution_millis": 766,
    "execution_start": 1632151315474,
    "deepnote_to_be_reexecuted": false,
    "deepnote_cell_type": "code"
   },
   "source": "from selenium.common.exceptions import NoSuchElementException\nfrom selenium.webdriver import Chrome\nfrom selenium.webdriver.chrome.options import Options\nimport datefinder\nimport pandas as pd\nimport numpy as np\nimport matplotlib.pyplot as plt",
   "outputs": [],
   "execution_count": null
  },
  {
   "cell_type": "markdown",
   "source": "For Selenium to work in Deepnote, we need to run it in headless mode. Selenium is actually a full browser automation software so running it in headless means we will not visually see the Chrome browser running. If you are running this code locally, you can run it in headful mode, and you will be able to see your browser load up as the code runs. This is typically my favorite part!",
   "metadata": {
    "tags": [],
    "cell_id": "00005-ee3174cf-f6cc-4807-aff3-7bc10965c2da",
    "output_cleared": false,
    "deepnote_cell_type": "markdown"
   }
  },
  {
   "cell_type": "code",
   "metadata": {
    "tags": [],
    "cell_id": "00003-774950d8-d163-49a2-84f2-69a668e10bb5",
    "output_cleared": false,
    "source_hash": "e1d49051",
    "execution_millis": 1579,
    "execution_start": 1632151377430,
    "deepnote_to_be_reexecuted": false,
    "deepnote_cell_type": "code"
   },
   "source": "\nchrome_options = Options()\nchrome_options.add_argument('--no-sandbox')\nchrome_options.add_argument('--headless')\ndriver = Chrome(options=chrome_options)  # This parameter would be the path to your chromedriver if you are running this locally",
   "outputs": [],
   "execution_count": null
  },
  {
   "cell_type": "markdown",
   "source": "Now that we have this running, we can start scraping the web. Let's start with [Wikipedia](https://www.wikipedia.org/) — it has a wealth of information and allows itself to be scraped, so it is a great candidate. If you needed to scrape Wikipedia for a real project and not for learning purposes, know that the [Python Wikipedia](https://towardsdatascience.com/wikipedia-api-for-python-241cfae09f1c) library and the Wikipedia data dumps are better places to get information. With that disclaimer out of the way — let's get started.",
   "metadata": {
    "tags": [],
    "cell_id": "00007-1278c670-f649-4d07-89c2-1a1bebc2dba3",
    "output_cleared": false,
    "deepnote_cell_type": "markdown"
   }
  },
  {
   "cell_type": "code",
   "metadata": {
    "tags": [],
    "cell_id": "00009-11420d0c-d34f-4c4b-abab-6a11f657c629",
    "output_cleared": false,
    "source_hash": "76ddb369",
    "execution_millis": 3,
    "execution_start": 1632151388789,
    "deepnote_to_be_reexecuted": false,
    "deepnote_cell_type": "code"
   },
   "source": "driver.implicitly_wait(3)",
   "outputs": [],
   "execution_count": null
  },
  {
   "cell_type": "markdown",
   "source": "The implicitly_wait function means that Selenium will wait up to 3 seconds before telling you that an element does not exist on a page. This is very useful for content that gets loaded in by an AJAX request or another dynamic method.\n",
   "metadata": {
    "tags": [],
    "cell_id": "00010-f23b215a-236d-4b7f-a844-8f5b18f7b050",
    "output_cleared": false,
    "deepnote_cell_type": "markdown"
   }
  },
  {
   "cell_type": "code",
   "metadata": {
    "tags": [],
    "cell_id": "00008-2b7cf0c2-70fb-4b5a-8f8f-372f088092ea",
    "output_cleared": false,
    "source_hash": "88faea39",
    "execution_millis": 2723,
    "execution_start": 1632151394493,
    "deepnote_to_be_reexecuted": false,
    "deepnote_cell_type": "code"
   },
   "source": "driver.get('https://www.halodoc.com/cari-dokter/spesialis/obstetrics-and-gynecologist')",
   "outputs": [],
   "execution_count": null
  },
  {
   "cell_type": "markdown",
   "source": "This sends the driver to the webpage we want to scrape. In this case, we are going to start with scraping the Wikipedia page for the [Razzies](https://en.wikipedia.org/wiki/Golden_Raspberry_Awards). The Razzies are sort of the reverse [Oscars Awards](https://en.wikipedia.org/wiki/Academy_Awards).\n",
   "metadata": {
    "tags": [],
    "cell_id": "00009-327b5214-cfb5-4419-8638-6b497e6f63ed",
    "output_cleared": false,
    "deepnote_cell_type": "markdown"
   }
  },
  {
   "cell_type": "markdown",
   "source": "# XPath",
   "metadata": {
    "tags": [],
    "cell_id": "00010-3057ec84-c633-46aa-b57e-a7539e7f60e7",
    "output_cleared": false,
    "deepnote_cell_type": "markdown"
   }
  },
  {
   "cell_type": "markdown",
   "source": "In my experience, one of the easiest ways to access elements on a web page is with [XPath](https://developer.mozilla.org/en-US/docs/Web/XPath). Now for a quick introduction to XPath.\nHere is an example XPath expression:\n\n```\n\"//div[@class = \"header_div\"]/h3\"\n```\n\nThis expression is saying is to look for a div on the page with a header_div class attribute. Then, find the first heading tag that is contained within that div. All XPath expressions will follow a similar pattern- double slash then tags with search terms attached. This tutorial aims to get started as quickly as possible so we can move on from HPath as this is about as complicated as our expressions will get.\n\nAnother useful resource is the [XPath Cheat Sheet](https://devhints.io/xpath). Keep this handy!\n\nNow, let's see if we can grab the title of the Wikipedia article.\nInspect element tells us the title is a header tag with attribute `firstHeading`.",
   "metadata": {
    "tags": [],
    "cell_id": "00018-d25f2576-398a-4ef5-94ab-48e3cf9eeecb",
    "deepnote_cell_type": "markdown"
   }
  },
  {
   "cell_type": "markdown",
   "source": "![Picture title](image-20201015-215057.png)",
   "metadata": {
    "tags": [],
    "cell_id": "00015-e51ea529-a638-4c4d-bd44-81da18d34882",
    "output_cleared": false,
    "deepnote_cell_type": "markdown"
   }
  },
  {
   "cell_type": "markdown",
   "source": "![Picture title](image-20201015-215201.png)",
   "metadata": {
    "tags": [],
    "cell_id": "00017-e27340a7-7f03-4c0b-a421-f5d2e45dea10",
    "output_cleared": false,
    "deepnote_cell_type": "markdown"
   }
  },
  {
   "cell_type": "code",
   "metadata": {
    "tags": [],
    "cell_id": "00014-4c72900b-d586-41c1-97b2-8f62cc7f76b9",
    "output_cleared": false,
    "source_hash": "dcb9f706",
    "execution_millis": 136,
    "execution_start": 1632124200950,
    "deepnote_to_be_reexecuted": false,
    "deepnote_cell_type": "code"
   },
   "source": "driver.find_element_by_xpath(\"//h1[@id='firstHeading']\").text",
   "execution_count": null,
   "outputs": [
    {
     "output_type": "execute_result",
     "execution_count": 6,
     "data": {
      "text/plain": "'Golden Raspberry Awards'"
     },
     "metadata": {}
    }
   ]
  },
  {
   "cell_type": "markdown",
   "source": "Brilliant!\n\n2 things to note:\n\n1. We found the text contained within the element using Selenium's WebElement text attribute\n2. Notice the use of both single and double quotes as not to pass an invalid string to the method\n\nLet's grab a couple more information from the Wiki page to have a more complete view of the information we need.",
   "metadata": {
    "tags": [],
    "cell_id": "00018-692b616d-343a-4915-b7e6-e72fe14c1557",
    "output_cleared": false,
    "deepnote_cell_type": "markdown"
   }
  },
  {
   "cell_type": "code",
   "metadata": {
    "tags": [],
    "cell_id": "00024-8a2fec22-2ecb-44b3-a32f-9325005932f3",
    "output_cleared": false,
    "source_hash": "b0e4a844",
    "execution_millis": 38,
    "execution_start": 1632124201095,
    "deepnote_to_be_reexecuted": false,
    "deepnote_cell_type": "code"
   },
   "source": "edited = driver.find_element_by_xpath('//li[@id=\"footer-info-lastmod\"]').text\nedited",
   "execution_count": null,
   "outputs": [
    {
     "output_type": "execute_result",
     "execution_count": 7,
     "data": {
      "text/plain": "'This page was last edited on 30 July 2021, at 18:33 (UTC).'"
     },
     "metadata": {}
    }
   ]
  },
  {
   "cell_type": "markdown",
   "source": "We want to get the data, but this is not an easy format to deal with. Luckily the [datefinder](https://datefinder.readthedocs.io/en/latest/) library is fantastic for extracting dates from unstructured plaintext.\n",
   "metadata": {
    "tags": [],
    "cell_id": "00025-ba33bb72-65ab-4658-9071-e0c021adf060",
    "output_cleared": false,
    "deepnote_cell_type": "markdown"
   }
  },
  {
   "cell_type": "code",
   "metadata": {
    "tags": [],
    "cell_id": "00025-8fa78f61-c5d9-4871-ac08-f8187e94cd23",
    "output_cleared": false,
    "source_hash": "3cd84a08",
    "execution_millis": 41,
    "execution_start": 1632124201129,
    "deepnote_to_be_reexecuted": false,
    "deepnote_cell_type": "code"
   },
   "source": "matches = list(datefinder.find_dates(edited))\n\nif len(matches) > 0:\n    # date returned will be a datetime.datetime object. here we are only using the first match.\n    date = matches[0]\n    print(date)\nelse:\n    print('No dates found')",
   "execution_count": null,
   "outputs": [
    {
     "name": "stdout",
     "text": "2021-07-30 18:33:00\n",
     "output_type": "stream"
    }
   ]
  },
  {
   "cell_type": "markdown",
   "source": "This line grabs the time stamp of when the article was last downloaded.",
   "metadata": {
    "tags": [],
    "cell_id": "00025-dc58793d-a798-49f3-9014-2ce82137272f",
    "output_cleared": false,
    "deepnote_cell_type": "markdown"
   }
  },
  {
   "cell_type": "code",
   "metadata": {
    "tags": [],
    "cell_id": "00025-5820aa8b-b5d6-4e3c-89bc-8556bd115749",
    "output_cleared": false,
    "source_hash": "236af3f7",
    "execution_millis": 633,
    "execution_start": 1632124201144,
    "deepnote_to_be_reexecuted": false,
    "deepnote_cell_type": "code"
   },
   "source": "driver.find_element_by_xpath('//div[@id = \"mw-content-text\"]').text",
   "execution_count": null,
   "outputs": [
    {
     "output_type": "execute_result",
     "execution_count": 9,
     "data": {
      "text/plain": "'\"Golden Raspberry\" redirects here. For the fruit, see Raspberry.\\nGolden Raspberry Award\\nCurrent: 41st Golden Raspberry Awards\\nThe Golden Raspberry Award statuette\\nAwarded for Worst in film\\nCountry United States\\nPresented by Golden Raspberry Award Foundation\\nFirst awarded March 31, 1981; 40 years ago\\nWebsite razzies.com\\nThe Golden Raspberry Awards (also known in short terms as Razzies and Razzie Awards) is a parody award show honoring the worst of cinematic under-achievements. Co-founded by UCLA film graduates and film industry veterans John J. B. Wilson and Mo Murphy, the Razzie Awards\\' satirical annual ceremony has preceded its polar opposite, the coveted Academy Awards, for four decades. The term raspberry is used in its irreverent sense, as in \"blowing a raspberry\". The statuette itself is a golf ball-sized raspberry atop a mangled Super 8mm film reel spray-painted gold, with an estimated street value of $4.97. The Golden Raspberry Foundation have claimed that the award \"encourages well-known filmmakers and top notch performers to own their bad.\"\\nThe first Golden Raspberry Awards ceremony was held on March 31, 1981, in John J. B. Wilson\\'s living-room alcove in Hollywood, to honor the perceived worst films of the 1980 film season. To this day, Sylvester Stallone is the most awarded actor ever with 10 awards won while Madonna is the most awarded actress with 9 awards.[1]\\nContents\\n1 History\\n2 Format\\n3 Recipients who have accepted their award\\n4 Contenders for worst and best\\n4.1 Razzie and Oscar\\n4.2 Razzie and Annie Award\\n4.3 Razzie and Golden Globe\\n4.4 Razzie and Grammy\\n4.5 Razzie and Saturn Award\\n4.6 Razzie and international awards\\n5 Categories\\n5.1 Special categories\\n5.1.1 Anniversary Awards\\n6 Other types of awards\\n6.1 The Razzie Redeemer Award\\n6.2 Worst Career Achievement\\n6.3 Governor\\'s Award\\n6.4 Barry L. Bumstead Award\\n7 Ceremonies\\n8 Criticism\\n9 See also\\n10 References\\n11 External links\\nHistory[edit]\\nJohn J. B. Wilson at the 29th Golden Raspberry Awards in 2009.\\nAmerican publicist John J. B. Wilson traditionally held potluck parties at his home in Hollywood on the night of the Academy Awards.[2] In 1981, after the 53rd Academy Awards had completed for the evening, Wilson invited friends to give random award presentations in his living room.[2][3] Wilson decided to hold the event, after seeing a 99-cent double feature of Can\\'t Stop the Music and Xanadu.[4] He gave attendees ballots to vote on the worst.[4] Wilson stood at a podium made of cardboard in a tacky tuxedo, with a foam ball attached to a broomstick as a fake microphone, and announced Can\\'t Stop the Music as the first Golden Raspberry Award Winner for Worst Picture.[4][5] The impromptu ceremony was a success and the following week a press release about his event was picked up by a few local newspapers, including a mention in the Los Angeles Daily News with the headline: \"Take These Envelopes, Please\".[2][3][5]\\nApproximately three dozen people came to the 1st Golden Raspberry Awards.[5] The 2nd Golden Raspberry Awards had double the attendance, and the 3rd awards ceremony had doubled that number.[5] By the 4th Golden Raspberry Awards ceremony, CNN and two major wire services covered the event.[2] \"We finally figured out you couldn\\'t compete with the Oscars on Oscar night, but if you went the night before, when the press from all over the world are here and they are looking for something to do, it could well catch on,\" Wilson told BBC News.[2]\\nFormat[edit]\\nMembers of the Golden Raspberry Award Organization (composed of filmmakers and very opinionated film buffs from around the world) vote to determine the recipients.[6] Voting members hail from all 50 U.S. states and every continent with the exception of Antarctica.\\nWorst Supporting Actress at the 29th Golden Raspberry Awards.\\nThe ceremony is modeled after the Academy Awards but done with deliberate intent to be low-end and tacky.[citation needed]\\nRecipients who have accepted their award[edit]\\nMain article: List of people who have accepted Golden Raspberry Awards\\nRecipients who have accepted their Golden Raspberry Award include Tom Green (Worst Actor/Worst Director), Halle Berry[7][8] and Sandra Bullock (Worst Actress), Michael Ferris, J. D. Shapiro (Worst Screenplay), Paul Verhoeven (Worst Director), eight-time Oscar Winner Alan Menken, Dinesh D\\'Souza, Fifty Shades of Grey producers Dana Brunetti and Michael De Luca, and Dwayne \"The Rock\" Johnson.\\nContenders for worst and best[edit]\\nSeveral people have gotten Razzie nominations for being the worst at something while at the same time, they got nominations from other organisations for being the best.\\nRazzie and Oscar[edit]\\nThree people won both the Razzies and Oscars the same weekend: Alan Menken in 1993, Brian Helgeland in 1997, and Sandra Bullock in 2010, although each of the three won for two different films in the same year (for example, Helgeland won both a Razzie and an Oscar for The Postman and L.A. Confidential, respectively).[9][10] Three actors had performances in the same movie netting them both Oscar and Razzie nominations, James Coco (Only When I Laugh), Amy Irving (Yentl) and Glenn Close (Hillbilly Elegy).[11] The Aerosmith song \"I Don\\'t Want to Miss a Thing\", as part of the original soundtrack to the 1998 film Armageddon, was nominated for both an Academy Award for Best Original Song[12] and a Golden Raspberry Award for Worst Original Song, as were the Trisha Yearwood song \"How Do I Live\" from the 1997 film Con Air[13] and the Tony Bennett song \"Life in a Looking Glass\" from the 1986 film That\\'s Life!.[14]\\nGena Rowlands was nominated in the Academy Award for Best Actress category for her role in the 1980 John Cassavetes film Gloria[15] while her co-star John Adames won the Worst Supporting Actor alongside co-winner Laurence Olivier in a remake of the 1927 film The Jazz Singer.\\nWall Street (1987) is the only film to date to win both an Oscar and a Razzie. Michael Douglas won the Academy Award for Best Actor,[16][17] while Daryl Hannah\\'s performance earned her a Razzie for Worst Supporting Actress.\\nDisney\\'s The Lone Ranger may have won one (Worst Remake) of its five nominations, but it was also nominated for two Oscars (for Best Makeup and Hairstyling and Best Visual Effects).[18]\\nThe 1983 romance/dance film Flashdance was nominated for a Razzie Award for Worst Screenplay, but won one of its three Oscar nominations for Best Original Song for Irene Cara\\'s \"Flashdance... What a Feeling\".[19]\\nWhile 1992\\'s The Bodyguard was a critical failure (earning seven Razzie nominations), it was a huge box office hit and, moreover, its multi-platinum soundtrack album overshadowed the film that it garnered two nominations for Best Original Song.[20]\\nJoker (2019) was the most nominated film at the 92nd Academy Awards, having scored 11 nominations including the Academy Award for Best Picture,[21] and won two including the Academy Award for Best Actor.[22] However, the film\\'s polarized critical reception resulted in it earning a nomination in the special Razzie Category Worst Reckless Disregard for Human Life and Public Property, which it lost to Rambo: Last Blood.[23] This nomination also made Joker the second film to be nominated for the Academy Award for Best Picture and a Razzie, after 1990\\'s The Godfather Part III.\\nBorat Subsequent Moviefilm was nominated for two Academy Awards at the 93rd Academy Awards for Best Adapted Screenplay and Best Supporting Actress for Maria Bakalova[24][25][26] in the same year it was nominated for two Razzies at the 41st Golden Raspberry Awards for Worst Supporting Actor for Rudy Giuliani and Worst Screen Combo for Giuliani and Bakalova (later changed to Giuliani and \"his pants zipper\").[27][28]\\nRazzie and Annie Award[edit]\\nIn spite of the heavily negative critical consensus (winning only one of its six nominations), the 2012 action film Battleship was also nominated for an Annie Award for Best Animated Effects in a Live Action Production.[29]\\nDespite receiving the Golden Raspberry Award for Worst Supporting Actor for his portrayal of Jar Jar Binks in Star Wars Episode I: The Phantom Menace, voice actor Ahmed Best won an Annie Award in 2009 for the portrayal of the same character in the animated TV episode Robot Chicken: Star Wars Episode II.[30]\\nRazzie and Golden Globe[edit]\\nNeil Diamond, winner of the inaugural Worst Actor Razzie for 1980\\'s The Jazz Singer, was nominated for the Golden Globe in the same role.[31]\\n1988\\'s Cocktail won two of its four nominations for Worst Picture and Worst Screenplay, but the Beach Boys\\'s song \"Kokomo\" was also nominated for a Golden Globe for Best Original Song.[32]\\nDespite being a major critical and commercial disappointment, and only receiving the most awards and nominations (including Worst Picture and Worst Director (Tom Hooper)), the 2019 film Cats was also nominated for a Golden Globe for Best Original Song for Taylor Swift\\'s song \"Beautiful Ghosts\".[33]\\nThe Sia-directed autism musical Music, nominated for four Razzies, was also nominated for two Golden Globes; Best Actress (Kate Hudson, who won a Razzie) and Best Picture, both for Musical or Comedy.[34][35][36]\\nRazzie and Grammy[edit]\\nVarious songs received wins/nominations for both the Razzie and the Grammy Awards, such as Madonna\\'s \"Die Another Day\" (Best Dance Recording),[37] Will Smith\\'s \"Wild Wild West\" (Best Rap Solo Performance),[38] Britney Spears\\' \"Overprotected\" (Best Female Pop Vocal Performance),[39] U2\\'s \"Hold Me, Thrill Me, Kiss Me, Kill Me\" (Best Rock Performance by a Duo or Group with Vocal),[40] The Smashing Pumpkins\\' \"The End Is the Beginning Is the End\" (Best Hard Rock Performance),[41] and LeAnn Rimes\\' \"How Do I Live\" (Best Female Country Vocal Performance).[42]\\nRazzie and Saturn Award[edit]\\nIn 1981, Stanley Kubrick was nominated both for a Razzie Award as Worst Director at the 1st Golden Raspberry Awards[43] as well as for a Saturn Award for Best Director at the 8th Saturn Awards[44] for the same film: The Shining. In 2002, Natalie Portman was nominated for Worst Supporting Actress and for the Saturn Award for Best Actress for the same role in Star Wars: Episode II – Attack of the Clones.[45] Cassandra Peterson was nominated for Worst Actress at the 9th Golden Raspberry Awards and for Best Actress at the 16th Saturn Awards for her role as Elvira in the 1988 film Elvira: Mistress of the Dark.\\nIn 2001, whilst Tim Burton\\'s Planet of the Apes garnered all three Razzies it was nominated for, Rick Baker\\'s makeup designs were very well received, that it earned him a Saturn Award nomination for Best Makeup, while Helena Bonham Carter, Tim Roth and Colleen Atwood were respectively nominated for Best Supporting Actress, Best Supporting Actor, and Best Costume.\\nThe 1997 apocalyptic film The Postman \"received\" all five awards, but also three Saturn nominations.[46]\\nRazzie and international awards[edit]\\nIn 1985, Michael Cimino\\'s Year of the Dragon, which was nominated for five Razzie Awards (including Worst Picture) at the 6th Golden Raspberry Awards, was also nominated for the César Award for Best Foreign Film (César du meilleur film étranger) and was listed by the prestigious French magazine Cahiers du Cinéma as the third best film of 1985.[47][48][49]\\nIn 2017, Darren Aronofsky, director of Mother!, was nominated for both the Worst Director Razzie at the 38th Golden Raspberry Awards and the Golden Lion at the 74th Venice International Film Festival.[50][51]\\nIn 2018, the mystery comedy Holmes & Watson won four of its six nominations (including Worst Picture and Worst Director (Etan Cohen)) at the 39th Golden Raspberry Awards, but was also nominated for two ALFS Awards (including British Actor (Steve Coogan) and Young British Performer (Noah Jupe)).\\nDespite Johnny Depp receiving two Razzie nominations for his performance in the film, Emily Blunt received an ALFS Award nomination for her performance in the CGI-animated box office hit Sherlock Gnomes. She also received nominations for her parts in the critically acclaimed movies A Quiet Place and Mary Poppins Returns.[52]\\nWhile M. Night Shyamalan\\'s After Earth tied Movie 43 for the most awards with three, it also brought its composer James Newton Howard a World Soundtrack Award nomination for Film Composer of the Year.\\nCategories[edit]\\nCurrent Awards\\nWorst Picture: 1980 to present\\nWorst Director: 1980 to present\\nWorst Actor: 1980 to present\\nWorst Actress: 1980 to present\\nWorst Supporting Actor: 1980 to present\\nWorst Supporting Actress: 1980 to present\\nWorst Screenplay: 1980 to present\\nWorst Prequel, Remake, Rip-off or Sequel: 1994 to present, except 1996 and 1999\\nWorst Screen Combo: 2013 to present\\nThe Razzie Redeemer Award: 2014 to present\\nRetired\\nWorst Original Song: 1980 to 1999, 2002\\nWorst New Star: 1981 to 1998, except 1989\\nWorst Musical Score: 1981 to 1985\\nWorst Visual Effects: 1986 to 1987\\nWorst Screen Couple: 1994 to 2009, 2011 to 2012\\nWorst Screen Couple/Worst Screen Ensemble: 2010\\nWorst Screen Ensemble: 2011 to 2012\\nSpecial categories[edit]\\nSpecial categories have also been introduced for specific years. Such special awards include:\\nYear Category Winner Nominees\\n1996 Worst Written Film Grossing Over $100 Million Twister—Michael Crichton & Anne-Marie Martin The Hunchback of Notre Dame—Tab Murphy, Irene Mecchi, Bob Tzudiker & Noni White\\nIndependence Day—Dean Devlin & Roland Emmerich\\nMission: Impossible—David Koepp and Robert Towne\\nA Time to Kill—Akiva Goldsman\\n1997 Worst Reckless Disregard for Human Life and Public Property Con Air Batman & Robin\\nThe Lost World: Jurassic Park\\nTurbulence\\nVolcano\\n1998 Worst Movie Trends of the Year 58-year-old leading men wooing 28-year-old leading ladies Trailers that give away the film\\'s entire plot\\nLonger movies, shorter plots\\nTHX Deafening Audio\\nMega-zillion-dollar cross-promotional overkill: Armageddon, Godzilla, etc.\\n2002 Most Flatulent Teen-Targeted Movie Jackass: The Movie Eight Crazy Nights\\nCrossroads\\nScooby-Doo\\nXXX\\n2003 Worst Excuse for an Actual Movie (All Concept/No Content) The Cat in the Hat 2 Fast 2 Furious\\nCharlie\\'s Angels: Full Throttle\\nFrom Justin to Kelly\\nThe Real Cancun\\n2005 Most Tiresome Tabloid Targets Tom Cruise, his baby, Katie Holmes, Oprah Winfrey\\'s couch and the Eiffel Tower Tom Cruise and his anti-psychiatry rant\\nParis Hilton and... \"who EVER!\"\\nMr. and Mrs. Britney, their baby (Sean Preston Federline) and their camcorder\\nThe Simpsons: Ashlee, Jessica and Nick\\n2006 Worst Excuse for Family Entertainment RV Deck the Halls\\nGarfield: A Tail of Two Kitties\\nThe Santa Clause 3: The Escape Clause\\nThe Shaggy Dog\\n2007 Worst Excuse for a Horror Movie I Know Who Killed Me Aliens vs. Predator: Requiem\\nCaptivity\\nHannibal Rising\\nHostel: Part II\\n2010 Worst Eye-Gouging Misuse of 3D The Last Airbender[53] Cats & Dogs: The Revenge of Kitty Galore\\nClash of the Titans\\nThe Nutcracker\\nSaw 3D\\n2017 The Razzie Nominee So Rotten You Loved It Baywatch The Emoji Movie[54]\\nFifty Shades Darker\\nThe Mummy\\nTransformers: The Last Knight\\n2019 Worst Reckless Disregard for Human Life and Public Property Rambo: Last Blood Dragged Across Concrete\\nThe Haunting of Sharon Tate\\nHellboy\\nJoker\\nAnniversary Awards[edit]\\nEvery decade-closing ceremony includes an award for the worst actors and movies of the decade—though the 2000 ceremony put the actors as worst of the 20th century instead. Special prizes for the 25th anniversary of the Razzies awards were also given out in 2005.\\nPeriod/Ceremony Category Winner Nominees\\n1980s (10th) Worst Actor Sylvester Stallone Christopher Atkins\\nRyan O\\'Neal\\nPrince\\nJohn Travolta\\nWorst Actress Bo Derek Faye Dunaway\\nMadonna\\nBrooke Shields\\nPia Zadora\\nWorst Picture of the Decade Mommie Dearest (1981) Bolero (1984)\\nHoward the Duck (1986)\\nThe Lonely Lady (1983)\\nStar Trek V: The Final Frontier (1989)\\nWorst New Star of the Decade Pia Zadora Christopher Atkins\\nMadonna\\nPrince\\nDiana Scarwid\\n1990s (20th) Worst Actor of the Century Sylvester Stallone Kevin Costner\\nPrince\\nWilliam Shatner\\nPauly Shore\\nWorst Actress of the Century Madonna Elizabeth Berkley\\nBo Derek\\nBrooke Shields\\nPia Zadora\\nWorst Picture of the Decade Showgirls (1995) An Alan Smithee Film: Burn Hollywood Burn (1998)\\nHudson Hawk (1991)\\nThe Postman (1997)\\nStriptease (1996)\\nWorst New Star of the Decade Pauly Shore Elizabeth Berkley\\nAhmed Best\\nSofia Coppola\\nDennis Rodman\\nOf Our First 25 Years (25th) Worst Razzie Loser Arnold Schwarzenegger Kim Basinger\\nAngelina Jolie\\nRyan O\\'Neal\\nKeanu Reeves\\nWorst Drama Battlefield Earth (2000) The Lonely Lady (1983)\\nMommie Dearest (1981)\\nShowgirls (1995)\\nSwept Away (2002)\\nWorst Comedy Gigli (2003) The Adventures of Pluto Nash (2002)\\nThe Cat in the Hat (2003)\\nFreddy Got Fingered (2001)\\nLeonard Part 6 (1987)\\nWorst Musical From Justin to Kelly (2003) Can\\'t Stop the Music (1980)\\nGlitter (2001)\\nRhinestone (1984)\\nSpice World (1998)\\nXanadu (1980)\\n2000s (30th) Worst Actor of the Decade Eddie Murphy Ben Affleck\\nMike Myers\\nRob Schneider\\nJohn Travolta\\nWorst Actress of the Decade Paris Hilton Mariah Carey\\nLindsay Lohan\\nJennifer Lopez\\nMadonna\\nWorst Picture of the Decade Battlefield Earth (2000) Freddy Got Fingered (2001)\\nGigli (2003)\\nI Know Who Killed Me (2007)\\nSwept Away (2002)\\nOther types of awards[edit]\\nThe Razzie Redeemer Award[edit]\\nThe Razzie Redeemer Award is presented to a former nominee or winner who has subsequently made a comeback from critical or commercial failure. The award was introduced in 2014. Winners include Ben Affleck, Sylvester Stallone, Mel Gibson, \"A Safe Hollywood-Haven\", Melissa McCarthy, and Eddie Murphy.\\nWorst Career Achievement[edit]\\nThis award has been given five times, to Ronald Reagan in 1981, to Linda Blair in 1983, to Irwin Allen in 1985, to \"Bruce the Rubber Shark\" from Jaws[55] in 1987, and to director Uwe Boll[56] in 2009 who received this for his achievement as \"Germany\\'s answer to Ed Wood\".\\nGovernor\\'s Award[edit]\\nThis is a special award given by Razzie Award Governor John J. B. Wilson to an individual whose achievements are not covered by the Razzies\\' other categories. It was awarded in 2003 to Travis Payne for \"Distinguished Under-Achievement in Choreography\" in the film From Justin to Kelly.[57]\\nBarry L. Bumstead Award[edit]\\nThis award is given to a critical and financial failure that would\\'ve been nominated if it had received an eligible release. It was awarded in 2015 to United Passions,[58][59] to Misconduct in 2016,[60] in 2017 to CHiPs and in 2018 to Billionaire Boys Club.\\nCeremonies[edit]\\n1980: 1st Golden Raspberry Awards\\n1981: 2nd Golden Raspberry Awards\\n1982: 3rd Golden Raspberry Awards\\n1983: 4th Golden Raspberry Awards\\n1984: 5th Golden Raspberry Awards\\n1985: 6th Golden Raspberry Awards\\n1986: 7th Golden Raspberry Awards\\n1987: 8th Golden Raspberry Awards\\n1988: 9th Golden Raspberry Awards\\n1989: 10th Golden Raspberry Awards\\n1990: 11th Golden Raspberry Awards\\n1991: 12th Golden Raspberry Awards\\n1992: 13th Golden Raspberry Awards\\n1993: 14th Golden Raspberry Awards\\n1994: 15th Golden Raspberry Awards\\n1995: 16th Golden Raspberry Awards\\n1996: 17th Golden Raspberry Awards\\n1997: 18th Golden Raspberry Awards\\n1998: 19th Golden Raspberry Awards\\n1999: 20th Golden Raspberry Awards\\n2000: 21st Golden Raspberry Awards\\n2001: 22nd Golden Raspberry Awards\\n2002: 23rd Golden Raspberry Awards\\n2003: 24th Golden Raspberry Awards\\n2004: 25th Golden Raspberry Awards\\n2005: 26th Golden Raspberry Awards\\n2006: 27th Golden Raspberry Awards\\n2007: 28th Golden Raspberry Awards\\n2008: 29th Golden Raspberry Awards\\n2009: 30th Golden Raspberry Awards\\n2010: 31st Golden Raspberry Awards\\n2011: 32nd Golden Raspberry Awards\\n2012: 33rd Golden Raspberry Awards\\n2013: 34th Golden Raspberry Awards\\n2014: 35th Golden Raspberry Awards\\n2015: 36th Golden Raspberry Awards\\n2016: 37th Golden Raspberry Awards\\n2017: 38th Golden Raspberry Awards\\n2018: 39th Golden Raspberry Awards\\n2019: 40th Golden Raspberry Awards\\n2020: 41st Golden Raspberry Awards\\nCriticism[edit]\\nThe Razzies have received criticism, including from news sources such as Indiewire\\u200a[61] and The Daily Telegraph,[62] for several issues, including that members of the Golden Raspberry Foundation are not required to watch the nominated films,[61] it follows different set of rules[61] which is different from the invitation-only Academy of Motion Picture Arts and Sciences.[63] Critics take issue with the Razzies picking \"easy targets\" and critically panned mainstream films instead of those perceived as less popular but more deserving productions,[64] continuing to appeal to celebrities, seemingly for publicity and attention, over other, worthier films and performances.[61]\\nSam Adams of Indiewire has said the Razzies are \"like hecklers hurling insults at comedians or a concertgoer yelling out \\'Whoo!\\' during a quiet song, they\\'re not-so-secretly crying out to be noticed. The Razzies, properly enough, avoid pouncing on the little guy; they don\\'t trash no-budget indies no one has seen for having bad lighting or terrible sound\".[61] Robbie Collin of The Daily Telegraph has said \"the Razzies\\' ongoing failure to train its sights on anything but the most obvious targets means it grows more tired and redundant by the year\".[62] CraveOnline\\'s William Bibbiani stated that the Razzies follow \"a cheap shot of pranksterism\", and \"with only a handful of exceptions, only seen fit to nominate the most infamous movies of the year, and not necessarily the worst.\"[64] In 2018, Scott Meslow, writing for GQ, accused the Razzies of being \"pretty lazy, very sexist, and a little racist\" in their choices, reiterating criticism that voters were overreliant on films already widely perceived as notorious, and further asserting they disproportionally nominated films directed by and starring Tyler Perry and films marketed towards women.[65]\\nSee also[edit]\\nFilm portal\\nAcademy Awards\\nStinkers Bad Movie Awards\\nThe Golden Turkey Awards\\nGolden Kela Awards\\nList of films considered the worst\\nList of people who have accepted Golden Raspberry Awards\\nReferences[edit]\\n^ \"All-Time RAZZIE Cham-Peens LIST - The Official RAZZIE® Forum\". February 21, 2012. Archived from the original on February 21, 2012. Retrieved September 3, 2020.\\n^\\na b c d e Lindrea, Victoria (February 25, 2007). \"Blowing raspberries at Tinseltown\". BBC News. BBC. Retrieved May 4, 2009.\\n^\\na b Larsen, Peter (January 20, 2005). \"The Morning Read – So bad, they\\'re almost good – A love of movies lies behind the Razzies\". The Orange County Register. p. 1.\\n^\\na b c Germain, David (Associated Press) (February 26, 2005). \"25 Years of Razzing Hollywood\\'s Stinkers\". South Florida Sun-Sentinel. Sun-Sentinel Company. p. 7D.\\n^\\na b c d Marder, Jenny (February 26, 2005). \"Razzin\\' The Dregs of Hollywood Dreck – Film: Cerritos\\' John Wilson Marks His Golden Raspberry Awards\\' 25th Year With A Guide To Cinematic Slumming\". Long Beach Press-Telegram. p. A1.\\n^ Marrs, John (February 25, 2009). \"\\'They have no excuse to be as bad as they are\\' – The Golden Raspberry awards aren\\'t just a refreshing antidote to the Oscars, they can help sell films too. John Marrs talks to the Razzies\\' founder, John Wilson\". The Guardian. Retrieved May 6, 2009.\\n^ Bushby, Helen (February 27, 2005). \"Berry gets worst actress Razzie\". BBC News. BBC. Retrieved January 19, 2009.\\n^ Razzie Channel (January 13, 2011), Halle Berry accepts her RAZZIE® Award, retrieved May 23, 2016\\n^ \"Razzie Award nominations: Can Sandra Bullock win worst AND best actress?\". Retrieved March 6, 2018.\\n^ \"\"L.A. Confidential\" winning Best Adapted Screenplay\" – via www.youtube.com.\\n^ Nolfi, Joey (March 15, 2021). \"Glenn Close bags Oscar and Razzie nods for her Hillbilly Elegy performance\". Entertainment Weekly. Retrieved March 15, 2021.\\n^ \"The 71st Academy Awards | 1999\". Oscars.org | Academy of Motion Picture Arts and Sciences.\\n^ \"The 70th Academy Awards | 1998\". Oscars.org | Academy of Motion Picture Arts and Sciences.\\n^ \"The 59th Academy Awards | 1987\". Oscars.org | Academy of Motion Picture Arts and Sciences.\\n^ \"The 53rd Academy Awards | 1981\". Oscars.org | Academy of Motion Picture Arts and Sciences.\\n^ Gorney, Cynthia (April 12, 1988). \"Douglas and Cher Win Acting Honors\". Washington Post.\\n^ \"The 60th Academy Awards | 1988\". Oscars.org | Academy of Motion Picture Arts and Sciences.\\n^ \"The 86th Academy Awards | 2014\". Oscars.org | Academy of Motion Picture Arts and Sciences.\\n^ \"The 56th Academy Awards | 1984\". Oscars.org | Academy of Motion Picture Arts and Sciences.\\n^ \"The 65th Academy Awards | 1993\". Oscars.org | Academy of Motion Picture Arts and Sciences.\\n^ Verhoeven, Beatrice. \"\\'Joker\\' Leads With 11 Oscar Nominations, Followed by \\'Irishman,\\' \\'1917\\' and \\'Once Upon a Time\\'\". TheWrap. The Wrap. Retrieved November 5, 2020.\\n^ Pedersen, Erik. \"Oscars: \\'Parasite\\' Wins Best Picture – The Complete Winners List\". Deadline Hollywood. Retrieved November 5, 2020.\\n^ Aquillina, Tyler. \"Cats nearly sweeps 2020 Razzie Awards, John Travolta, Hilary Duff also winners(?)\". Entertainment Weekly. EW. Retrieved November 5, 2020.\\n^ Swann, Erik. \"Borat 2 Just Picked Up Some Major Oscar Nominations, And I Couldn\\'t Be More Excited\". Cinema Blend. Cinema Blend. Retrieved March 15, 2021.\\n^ Cohn, Gabe. \"2021 Oscars Nominees List\". New York Times. NYT. Retrieved March 15, 2021.\\n^ \"The 93rd Academy Awards | 2021\". Oscars.org | Academy of Motion Picture Arts and Sciences.\\n^ Vlamis, Kelsey. \"Rudy Giuliani was nominated for a worst supporting actor Razzie for playing himself in Borat 2\". Insider. Insider. Retrieved March 15, 2021.\\n^ Bentz, Adam. \"Rudy Giuliani In Borat 2 Gets A Razzie Nomination For Worst Supporting Actor\". ScreenRant. ScreenRant. Retrieved March 15, 2021.\\n^ \"Annie Awards (2013)\". IMDb.\\n^ \"48th Annual Annie Awards\". annieawards.org.\\n^ \"Neil Diamond\". www.goldenglobes.com.\\n^ \"Cocktail\". www.goldenglobes.com.\\n^ \"Cats\". www.goldenglobes.com.\\n^ \"Furious critics call Golden Globe nominations \\'a joke\\'\". The Independent. February 4, 2021. Retrieved February 26, 2021.\\n^ Kreps, Daniel (March 12, 2021). \"\\'Dolittle,\\' Sia\\'s \\'Music,\\' \\'365 Days\\' Lead 2021 Razzie Awards Nominees\". Rolling Stone. Archived from the original on March 12, 2021. Retrieved March 12, 2021.\\n^ \"Music\". www.goldenglobes.com. Retrieved March 13, 2021.\\n^ \"Madonna\". GRAMMY.com. November 23, 2020.\\n^ \"Will Smith\". GRAMMY.com. November 23, 2020.\\n^ \"Britney Spears\". GRAMMY.com. November 23, 2020.\\n^ \"U2\". GRAMMY.com. November 23, 2020.\\n^ \"Smashing Pumpkins\". GRAMMY.com. November 23, 2020.\\n^ 39th Annual GRAMMY Awards|1996 GRAMMYs|GRAMMY.com\\n^ \"Razzie Awards (1981)\". IMDb.\\n^ Academy of Science Fiction, Fantasy & Horror Films, USA on IMDB.com\\n^ Awards for Star Wars: Episode II – Attack of the Clones at IMDb\\n^ \"Academy of Science Fiction, Fantasy & Horror Films, USA (1998)\". IMDb.\\n^ Wilson, John. \"6th Annual RAZZIE Awards\". Razzies.com. Golden Raspberry Awards. Archived from the original on October 13, 2014. Retrieved March 13, 2021.\\n^ \"Cahiers du Cinema Best of the Year\". Alumnus.caltech.edu. caltech. Archived from the original on March 27, 2012. Retrieved March 13, 2021.\\n^ \"Year of the Dragon - Awards\". IMDB. Retrieved March 13, 2021.\\n^ \"Mother! (2017 Film) Background | GradeSaver\". www.gradesaver.com.\\n^ Murrian, Samuel R. (August 8, 2017). \"Watch: Jennifer Lawrence and Michelle Pfeiffer in the Nerve-Jangling Mother Trailer\". Parade.\\n^ \"London Critics Circle Film Awards (2019)\". IMDb.\\n^ \"Razzie Awards: \\'The Last Airbender\\' earns Worst Picture, Director, and \\'Eye-Gouging Misuse of 3-D\\'\". EW.com.\\n^ \"38th Razzie Award \"Winners\" Announced\". Rotten Tomatoes. March 3, 2018. Retrieved March 3, 2018.\\n^ Razzies.com Archived September 29, 2012, at the Wayback Machine, visited April 30, 2007.\\n^ John Wilson (January 21, 2009). \"Razzies 2008 Nominees for Worst Career Achievement\". Retrieved January 22, 2009.\\n^ \"Razzies.com – Home of the Golden Raspberry Award Foundation\". razzies.com. Archived from the original on March 13, 2012. Retrieved January 22, 2011.\\n^ \"Razzie Awards Mock \\'Fifty Shades of Grey,\\' Redeem Sylvester Stallone\". The Hollywood Reporter. Retrieved February 24, 2017.\\n^ Razzie Channel (April 20, 2016), 36th Razzie\\'s – Barry L Bumstead Award Goes To…United Passions!, retrieved February 24, 2017\\n^ Heller, Corrine. \"Razzies 2017 Winners Announced: Batman v Superman \"Loses\" Worst Picture But Still \"Wins\" Big\". E Online. E!. Retrieved February 25, 2017.\\n^\\na b c d e Sam Adams (January 5, 2015). \"Why the Razzies Are the Worst Awards Ever\". Criticwire.\\n^\\na b \"Why I hate the Razzies\". Telegraph.co.uk. March 1, 2016.\\n^ \"How to Become a Member\". Oscars.org – Academy of Motion Picture Arts and Sciences.\\n^\\na b \"Which Easy Targets Did The Razzies Pick This Year? - CraveOnline\". January 13, 2016. Archived from the original on June 30, 2017. Retrieved October 31, 2016.\\n^ Maslow, Scott (January 23, 2018). \"Ignore the Razzies—They\\'re a Total Sham\". GQ. Retrieved July 30, 2021.\\nExternal links[edit]\\nWikimedia Commons has media related to Golden Raspberry Awards.\\nWikiquote has quotations related to: Golden Raspberry Awards\\nOfficial website\\nRazzie Awards page on the Internet Movie Database\\nRazzie channel on YouTube\\nAll Time Razzie Champions List\\nhide\\nvte\\nGolden Raspberry Awards\\nHistory\\nJohn J. B. Wilson The Official Razzie Movie Guide List of people who have accepted Golden Raspberry Awards\\nCurrent awards\\nWorst Picture Worst Director Worst Actor Worst Actress Worst Supporting Actor Worst Supporting Actress Worst Screenplay Worst Screen Combo Worst Prequel, Remake, Rip-off or Sequel The Razzie Redeemer Award\\nRetired awards\\nWorst Musical Score Worst Original Song Worst New Star\\nAward\\nceremonies\\n1980 1981 1982 1983 1984 1985 1986 1987 1988 1989 1990 1991 1992 1993 1994 1995 1996 1997 1998 1999 2000 2001 2002 2003 2004 2005 2006 2007 2008 2009 2010 2011 2012 2013 2014 2015 2016 2017 2018 2019 2020\\nCategory'"
     },
     "metadata": {}
    }
   ]
  },
  {
   "cell_type": "markdown",
   "source": "This line will return all of the content on the page. As long as the text is contained somewhere on the div, the text attribute will return it!\n",
   "metadata": {
    "tags": [],
    "cell_id": "00028-d5989ffe-a697-41e4-8ea9-545e48b3c8d0",
    "output_cleared": false,
    "deepnote_cell_type": "markdown"
   }
  },
  {
   "cell_type": "code",
   "metadata": {
    "tags": [],
    "cell_id": "00030-b2fd200a-b3d8-414f-a0f5-a48b8df3ba15",
    "output_cleared": false,
    "source_hash": "603ba7d1",
    "execution_millis": 36,
    "execution_start": 1632124201772,
    "deepnote_to_be_reexecuted": false,
    "deepnote_cell_type": "code"
   },
   "source": "len(driver.find_elements_by_xpath('//img'))",
   "execution_count": null,
   "outputs": [
    {
     "output_type": "execute_result",
     "execution_count": 10,
     "data": {
      "text/plain": "9"
     },
     "metadata": {}
    }
   ]
  },
  {
   "cell_type": "markdown",
   "source": "This line tells us how many images are on a given page.\n",
   "metadata": {
    "tags": [],
    "cell_id": "00031-412e9e65-82fe-4707-9cbb-d177baf6fda4",
    "output_cleared": false,
    "deepnote_cell_type": "markdown"
   }
  },
  {
   "cell_type": "markdown",
   "source": "Now that we have explored the page a little, let's try and package these functions to create a dataframe out of a few Wiki pages. The information that we will collect about each webpage is as follows:\n\n1. The title\n2. The text body\n3. The number of hyperlinks on the page\n4. The number of images on the page\n5. When it was last edited",
   "metadata": {
    "tags": [],
    "cell_id": "00030-512711b3-6f16-49bd-968a-b671de232940",
    "output_cleared": false,
    "deepnote_cell_type": "markdown"
   }
  },
  {
   "cell_type": "code",
   "metadata": {
    "tags": [],
    "cell_id": "00031-06d77d3f-c46c-4a57-bcea-641754653f8a",
    "output_cleared": false,
    "source_hash": "ab714036",
    "execution_millis": 1,
    "execution_start": 1632152155666,
    "deepnote_to_be_reexecuted": false,
    "deepnote_cell_type": "code"
   },
   "source": "def scrape_wiki(url,driver):\n    driver.get(url)\n    title = driver.find_element_by_xpath(\"//div[@class='col-12 col-md-8 col-xl-9 hospital-list--result ng-star-inserted']\").text\n    data = {\"title\":title,}\n    return pd.Series(data)",
   "outputs": [],
   "execution_count": null
  },
  {
   "cell_type": "code",
   "metadata": {
    "tags": [],
    "cell_id": "00034-e11c01b5-f47b-4c44-81f7-bd020846be63",
    "output_cleared": false,
    "source_hash": "254607ba",
    "execution_millis": 841,
    "execution_start": 1632152160639,
    "deepnote_to_be_reexecuted": false,
    "deepnote_cell_type": "code"
   },
   "source": "scrape_wiki('https://www.halodoc.com/cari-dokter/spesialis/obstetrics-and-gynecologist',driver)",
   "outputs": [
    {
     "output_type": "execute_result",
     "execution_count": 18,
     "data": {
      "text/plain": "title    dr. A. Djaenudin, Sp.OG\\nKebidanan Kandungan\\n...\ndtype: object"
     },
     "metadata": {}
    }
   ],
   "execution_count": null
  },
  {
   "cell_type": "markdown",
   "source": "Let's test if function works on a different article.",
   "metadata": {
    "tags": [],
    "cell_id": "00036-8ed8aeb7-965a-4955-a8f6-8d1c2b5a2ea0",
    "output_cleared": false,
    "deepnote_cell_type": "markdown"
   }
  },
  {
   "cell_type": "code",
   "metadata": {
    "tags": [],
    "cell_id": "00037-dccd69be-f6b1-4d1e-b39c-47efc8f41410",
    "output_cleared": false,
    "source_hash": "70d34b49",
    "execution_millis": 3164,
    "execution_start": 1632152529426,
    "deepnote_to_be_reexecuted": false,
    "deepnote_cell_type": "code"
   },
   "source": "scrape_wiki('https://www.halodoc.com/cari-dokter/spesialis/pediatrician',driver)",
   "outputs": [
    {
     "output_type": "execute_result",
     "execution_count": 19,
     "data": {
      "text/plain": "title    dr. A. D. Pasaribu, Sp.A\\nAnak\\nRS Hermina Kem...\ndtype: object"
     },
     "metadata": {}
    }
   ],
   "execution_count": null
  },
  {
   "cell_type": "markdown",
   "source": "Awesome. We have a function that works on both pages! We never even looked at the Oscars Wiki page. Luckily for us, Wikipedia pages are set up in a pretty uniform way.",
   "metadata": {
    "tags": [],
    "cell_id": "00038-9d5c05d4-4338-489a-84a1-ee784638e963",
    "output_cleared": false,
    "deepnote_cell_type": "markdown"
   }
  },
  {
   "cell_type": "code",
   "metadata": {
    "tags": [],
    "cell_id": "00037-46e4fd11-6407-4c51-b658-2dc83aae6523",
    "output_cleared": false,
    "source_hash": "88faea39",
    "execution_millis": 694,
    "execution_start": 1632151672224,
    "deepnote_to_be_reexecuted": false,
    "deepnote_cell_type": "code"
   },
   "source": "driver.get('https://www.halodoc.com/cari-dokter/spesialis/obstetrics-and-gynecologist')",
   "outputs": [],
   "execution_count": null
  },
  {
   "cell_type": "markdown",
   "source": "Bring the Webdriver back to the Razzies page.\n",
   "metadata": {
    "tags": [],
    "cell_id": "00038-6f602c80-7006-46f2-9771-e923006ba101",
    "output_cleared": false,
    "deepnote_cell_type": "markdown"
   }
  },
  {
   "cell_type": "code",
   "metadata": {
    "tags": [],
    "cell_id": "00038-a64429c4-c4d1-492a-8b73-c4fb29cbf8cb",
    "output_cleared": false,
    "source_hash": "3a9b3ae5",
    "execution_millis": 166,
    "execution_start": 1632151678949,
    "deepnote_to_be_reexecuted": false,
    "deepnote_cell_type": "code"
   },
   "source": "wiki_links = [link.get_attribute('href') for link in driver.find_elements_by_xpath('//a[@href]') if \"en.wikipedia.org/wiki\" in link.get_attribute('href') and \"Raspberry\" not in link.get_attribute('href')]\nwiki_links",
   "outputs": [
    {
     "output_type": "execute_result",
     "execution_count": 10,
     "data": {
      "text/plain": "[]"
     },
     "metadata": {}
    }
   ],
   "execution_count": null
  },
  {
   "cell_type": "markdown",
   "source": "This line above looks for every 'a' tag with an href attribute and then gets the link text. Note the use of the find elements method and not find element. Using a convenient list comprehension, we only grab the links to Wiki articles that aren't about the Golden Raspberries. There are a couple of URLs we might not want to scrape as they are meta articles about Wikipedia, but the majority of our work is good.\n\nNow let's try and create a dataframe with all of the links we collected from the Razzies page. By the end of our work, we will have a pandas dataframe with info on the Razzie and all the movies associated with it.",
   "metadata": {
    "tags": [],
    "cell_id": "00038-b457267b-098e-4b6c-b72d-ef2c42344d75",
    "output_cleared": false,
    "deepnote_cell_type": "markdown"
   }
  },
  {
   "cell_type": "code",
   "metadata": {
    "tags": [],
    "cell_id": "00040-54561046-8302-426e-890c-b1627a79e953",
    "output_cleared": false,
    "source_hash": "a51bbdbb",
    "execution_millis": 16,
    "execution_start": 1632151691981,
    "deepnote_to_be_reexecuted": false,
    "deepnote_cell_type": "code"
   },
   "source": "df = pd.DataFrame()\nfor link in wiki_links[:15]:\n    try:\n        df = df.append(scrape_wiki(link,driver),ignore_index=True,verify_integrity=True)\n    except NoSuchElementException:\n        pass\ndf\n",
   "outputs": [
    {
     "output_type": "execute_result",
     "execution_count": 11,
     "data": {
      "application/vnd.deepnote.dataframe.v2+json": {
       "row_count": 0,
       "column_count": 0,
       "columns": [
        {
         "name": "_deepnote_index_column",
         "dtype": "object"
        }
       ],
       "rows_top": [],
       "rows_bottom": null
      },
      "text/plain": "Empty DataFrame\nColumns: []\nIndex: []",
      "text/html": "<div>\n<style scoped>\n    .dataframe tbody tr th:only-of-type {\n        vertical-align: middle;\n    }\n\n    .dataframe tbody tr th {\n        vertical-align: top;\n    }\n\n    .dataframe thead th {\n        text-align: right;\n    }\n</style>\n<table border=\"1\" class=\"dataframe\">\n  <thead>\n    <tr style=\"text-align: right;\">\n      <th></th>\n    </tr>\n  </thead>\n  <tbody>\n  </tbody>\n</table>\n</div>"
     },
     "metadata": {}
    }
   ],
   "execution_count": null
  },
  {
   "cell_type": "markdown",
   "source": "We iterate through our links and append the scraped data to our dataframe. This can take some time because we need to access a large number of pages. Feel free to limit the number of links you will scrape if you are feeling impatient.\n",
   "metadata": {
    "tags": [],
    "cell_id": "00041-771f6b39-38f7-49c8-928f-2f0a00e9a1a8",
    "output_cleared": false,
    "deepnote_cell_type": "markdown"
   }
  },
  {
   "cell_type": "markdown",
   "source": "Let's explore some of the data briefly.\n",
   "metadata": {
    "tags": [],
    "cell_id": "00046-a5191215-2426-4678-9f9d-00a327a5b7cf",
    "deepnote_cell_type": "markdown"
   }
  },
  {
   "cell_type": "code",
   "metadata": {
    "tags": [],
    "cell_id": "00046-169f3dd3-84d0-4a21-a22c-27f51bb22310",
    "output_cleared": false,
    "source_hash": "d951cde9",
    "execution_millis": 358,
    "execution_start": 1632124247513,
    "deepnote_to_be_reexecuted": false,
    "deepnote_cell_type": "code"
   },
   "source": "df.plot(x='title' ,y='num_links', kind='bar')\nplt.title('Number of links per article')\nplt.show()",
   "execution_count": null,
   "outputs": [
    {
     "data": {
      "text/plain": "<Figure size 432x288 with 1 Axes>",
      "image/png": "[encoded data removed]"
     },
     "metadata": {
      "needs_background": "light",
      "image/png": {
       "width": 381,
       "height": 449
      }
     },
     "output_type": "display_data"
    }
   ]
  },
  {
   "cell_type": "code",
   "metadata": {
    "tags": [],
    "cell_id": "00048-ba3439c0-248f-4b34-96e1-098b946838de",
    "output_cleared": false,
    "source_hash": "3a97fe5e",
    "execution_start": 1632124247868,
    "execution_millis": 386,
    "deepnote_to_be_reexecuted": false,
    "deepnote_cell_type": "code"
   },
   "source": "df.plot(x='title' ,y='num_images', kind='bar')\nplt.title('Number of links per article')\nplt.show()",
   "execution_count": null,
   "outputs": [
    {
     "data": {
      "text/plain": "<Figure size 432x288 with 1 Axes>",
      "image/png": "[encoded data removed]"
     },
     "metadata": {
      "needs_background": "light",
      "image/png": {
       "width": 368,
       "height": 449
      }
     },
     "output_type": "display_data"
    }
   ]
  },
  {
   "cell_type": "markdown",
   "source": "Before we wrap up, let's clean up the data a bit. We are going to use the dataframes apply method, which I find incredibly convenient. We will use it to make our description text all lower case. Additionally, we will remove the stopwords. If your goal was to perform NLP tasks on the data, this would be a reasonable step. Stopwords are all of the words in the text necessary for grammar but do not necessarily bring meaning. These words like `at`, `the`, `a`, `to`, etc...\n",
   "metadata": {
    "tags": [],
    "cell_id": "00044-ac938d54-d647-4b06-8d89-50fa52dd1799",
    "output_cleared": false,
    "deepnote_cell_type": "markdown"
   }
  },
  {
   "cell_type": "code",
   "metadata": {
    "tags": [],
    "cell_id": "00045-ff3c58e2-c3b4-494f-8976-57d4a028155b",
    "output_cleared": false,
    "source_hash": "fa5f41f0",
    "execution_millis": 763,
    "execution_start": 1632124248249,
    "deepnote_to_be_reexecuted": false,
    "deepnote_cell_type": "code"
   },
   "source": "import nltk \nfrom nltk.corpus import stopwords\nnltk.download('stopwords')",
   "execution_count": null,
   "outputs": [
    {
     "name": "stderr",
     "text": "[nltk_data] Downloading package stopwords to /root/nltk_data...\n[nltk_data]   Package stopwords is already up-to-date!\n",
     "output_type": "stream"
    },
    {
     "output_type": "execute_result",
     "execution_count": 19,
     "data": {
      "text/plain": "True"
     },
     "metadata": {}
    }
   ]
  },
  {
   "cell_type": "code",
   "metadata": {
    "tags": [],
    "cell_id": "00045-48099a63-bd5b-4782-894f-796f2b1205e8",
    "output_cleared": false,
    "source_hash": "958fb280",
    "execution_millis": 16,
    "execution_start": 1632124248999,
    "deepnote_to_be_reexecuted": false,
    "deepnote_cell_type": "code"
   },
   "source": "def text_clean(text):\n    return \" \".join([word.lower().strip(\" ,'\\\"\") for word in text.split() if word not in stopwords.words(\"english\")])\ntext_clean(\"This is a piece of Example Text with Random Punctuation, to Test Our function\")",
   "execution_count": null,
   "outputs": [
    {
     "output_type": "execute_result",
     "execution_count": 20,
     "data": {
      "text/plain": "'this piece example text random punctuation test our function'"
     },
     "metadata": {}
    }
   ]
  },
  {
   "cell_type": "markdown",
   "source": "We can see that the processed text is all lower case, the punctuation has been removed, and words like `with`, `is` and `a` have been removed.\n",
   "metadata": {
    "tags": [],
    "cell_id": "00048-779e248d-e898-4180-87fb-a22bb5e6c9ef",
    "output_cleared": false,
    "deepnote_cell_type": "markdown"
   }
  },
  {
   "cell_type": "code",
   "metadata": {
    "tags": [],
    "cell_id": "00042-52a05b30-e4ba-40e2-8025-c9dbcd541421",
    "output_cleared": false,
    "source_hash": "4d2a6966",
    "execution_millis": 10108,
    "execution_start": 1632124249009,
    "deepnote_to_be_reexecuted": false,
    "deepnote_cell_type": "code"
   },
   "source": "df.description = df.description.apply(lambda row: text_clean(row))\ndf.description",
   "execution_count": null,
   "outputs": [
    {
     "output_type": "execute_result",
     "execution_count": 21,
     "data": {
      "text/plain": "0     ucla redirects here. for uses see ucla (disamb...\n1     for uses see john wilson. john j. b. wilson wi...\n2     oscars the oscar redirect here. for uses see o...\n3     bronx cheer redirects here. for law & order ep...\n4     this article film format. for abrams/spielberg...\n5     list years film … 1970 1971 1972 1973 1974 197...\n6     sylvester stallone stallone 2019 born michael ...\n7     for uses see madonna (disambiguation). madonna...\n8     for uses see john wilson. john j. b. wilson wi...\n9     hide this article multiple issues. please help...\n10    for uses see john wilson. john j. b. wilson wi...\n11    for uses see pot luck (disambiguation). this a...\n12    oscars the oscar redirect here. for uses see o...\nName: description, dtype: object"
     },
     "metadata": {}
    }
   ]
  },
  {
   "cell_type": "markdown",
   "source": "The apply method with apply our `text_clean` function to all of the cells in the description column of the dataframe.",
   "metadata": {
    "tags": [],
    "cell_id": "00050-254c4539-f4f7-4431-824f-4ead928cbf7e",
    "output_cleared": false,
    "deepnote_cell_type": "markdown"
   }
  },
  {
   "cell_type": "markdown",
   "source": "",
   "metadata": {
    "tags": [],
    "cell_id": "00045-4b1c9ac8-945d-4cc7-b1f0-190303c71c68",
    "output_cleared": false,
    "deepnote_cell_type": "markdown"
   }
  },
  {
   "cell_type": "markdown",
   "source": "Finally, save our work to CSV, and we are done! Congrats! We are done.",
   "metadata": {
    "tags": [],
    "cell_id": "00050-739674e1-02e4-46d5-967e-1f5e88649413",
    "output_cleared": false,
    "deepnote_cell_type": "markdown"
   }
  },
  {
   "cell_type": "code",
   "metadata": {
    "tags": [],
    "cell_id": "00051-e4d829bf-77d0-4627-a460-80266960b94a",
    "output_cleared": false,
    "source_hash": "c8003608",
    "execution_millis": 20,
    "execution_start": 1632124259114,
    "deepnote_to_be_reexecuted": false,
    "deepnote_cell_type": "code"
   },
   "source": "df.to_csv(\"wiki.csv\")",
   "execution_count": null,
   "outputs": []
  },
  {
   "cell_type": "markdown",
   "source": "# Next Steps\n\nSo you've gone and collected all of this data from Wikipedia. Now, what do you do with it?\nHere are a couple ideas to get you started.\n\n1. Document Similarity\nOur code starts grabbing documents from the links present on our first Wikipedia page. Using the descriptions on those Wiki pages, you could find some way to predict if one document is related to another or guess if it is present as a first-degree link. This could be done with [doc2vec](https://medium.com/wisio/a-gentle-introduction-to-doc2vec-db3e8c0cce5e), which would be a great fit to train a model to detect document similarity. More information on document similarity can be found [here](https://towardsdatascience.com/a-complete-beginners-guide-to-document-similarity-algorithms-75c44035df90).\n\n2. Text Generation\nWith Wikipedia, we can get a lot of text really quickly. Training a model to write a book in the Wikipedia style could be a fascinating problem to tackle. The [transformers](https://huggingface.co/blog/how-to-generate) library is a great place to look at. If you are looking for another Deepnote tutorial about text generation, I have written one [here](https://deepnote.com/publish/e34c35b3-eeb8-4706-962c-57341bd0dafe).\n\n3. Text Classification\nThere is plenty of data to work with here, so you can think of any given text classification project to start working on. For example, you could create categories of text, say movies, history, and science. Using the tools above, you can collect Wiki articles from different fields and train a text classification model.\n\nThese ideas just scratch the surface. You could visualize the data and find out how recently a typical article has been edited. Applying these techniques to any site can make it easy to collect data and work with it.",
   "metadata": {
    "tags": [],
    "cell_id": "00055-6618d7d3-8c2d-4180-9904-e6e98def7c66",
    "output_cleared": false,
    "deepnote_cell_type": "markdown"
   }
  },
  {
   "cell_type": "markdown",
   "source": "## Run this notebook in Deepnote\n\nIf you want to pick up this work, feel free to *Duplicate* this article next (at the beginning). Or just click below on \"Launch in Deepnote\"\n\n[<img src=\"https://deepnote.com/buttons/launch-in-deepnote.svg\">](https://deepnote.com/project/09803641-19e4-4db5-9062-a0d0dafdfa29)\n\nIf you'll be starting on your own, make sure to install `chromium-driver`.\nYou can do it from Terminal, directly from a cell using `bash` magic:\n\n```\n%%bash\nsudo apt-get update\nsudo apt-get install chromium-driver -y\n```\n\nOr add the following lise into your `Dockerfile` in Environment tab:\n```\nRUN sudo apt-get update\nRUN sudo apt-get install chromium-driver -y\n```",
   "metadata": {
    "tags": [],
    "cell_id": "00060-b239736d-2e79-4352-9578-72f0c699058a",
    "deepnote_cell_type": "markdown"
   }
  },
  {
   "cell_type": "markdown",
   "source": "# Conclusion\n\nIt is straightforward to start collecting data for your own personal projects. There is no better place to find information than online.\n\nIf you have any questions about running or writing code like this, please feel free to email me at `josh.zwiebel<at>uwaterloo.ca`.",
   "metadata": {
    "tags": [],
    "cell_id": "00054-500e63f0-58c9-4288-89be-5de96a519368",
    "output_cleared": false,
    "deepnote_cell_type": "markdown"
   }
  },
  {
   "cell_type": "markdown",
   "source": "",
   "metadata": {
    "tags": [],
    "cell_id": "00062-d7705c98-2e84-4a80-9aae-ace7fdacd12c",
    "deepnote_cell_type": "markdown"
   }
  },
  {
   "cell_type": "markdown",
   "source": "<a style='text-decoration:none;line-height:16px;display:flex;color:#5B5B62;padding:10px;justify-content:end;' href='https://deepnote.com?utm_source=created-in-deepnote-cell&projectId=e1eb8707-e803-48f8-a817-7e4e2cfa40a3' target=\"_blank\">\n<img alt='Created in deepnote.com' style='display:inline;max-height:16px;margin:0px;margin-right:7.5px;' src='data:image/svg+xml;base64,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' > </img>\nCreated in <span style='font-weight:600;margin-left:4px;'>Deepnote</span></a>",
   "metadata": {
    "tags": [],
    "created_in_deepnote_cell": true,
    "deepnote_cell_type": "markdown"
   }
  }
 ],
 "nbformat": 4,
 "nbformat_minor": 2,
 "metadata": {
  "kernelspec": {
   "display_name": "Python 3",
   "language": "python",
   "name": "python3"
  },
  "language_info": {
   "codemirror_mode": {
    "name": "ipython",
    "version": 3
   },
   "file_extension": ".py",
   "mimetype": "text/x-python",
   "name": "python",
   "nbconvert_exporter": "python",
   "pygments_lexer": "ipython3",
   "version": "3.6.3"
  },
  "deepnote_notebook_id": "09eec664-21c1-4ede-a55c-43a3c8ebf4f9",
  "deepnote_execution_queue": [],
  "deepnote": {}
 }
}