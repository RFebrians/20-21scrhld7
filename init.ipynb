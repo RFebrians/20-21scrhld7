{
 "cells": [
  {
   "cell_type": "markdown",
   "source": "## Initialization Notebook\nThis is your initialization notebook.\n\n**What's this for?**\n\nYou can put custom code you want us to run every time we setup your environment in here. \n\n**Awesome! Anything I should not put in here?**\n\nPlease don't install `jupyter` or `jedi` packages, they would break your Deepnote environment. Also, no need to put `!pip install`s here, we already save those automatically!\n\n**I want to learn more!**\n\nGreat! Just [head over to our docs](https://docs.deepnote.com/environment/custom-initialization).",
   "metadata": {
    "tags": [],
    "cell_id": "00000-14c6c610-d7d0-4608-a6f3-58e20adfc44a",
    "output_cleared": false,
    "deepnote_cell_type": "markdown"
   }
  },
  {
   "cell_type": "code",
   "metadata": {
    "tags": [],
    "cell_id": "00001-426ee146-c603-4dba-b88d-dd6ef1984a48",
    "output_cleared": false,
    "source_hash": "60b37886",
    "execution_millis": 15708,
    "execution_start": 1632154734765,
    "deepnote_to_be_reexecuted": false,
    "deepnote_cell_type": "code"
   },
   "source": "%%bash\n# If your project has a 'requirements.txt' file, we'll install it here apart from blacklisted packages that interfere with Deepnote (see above).\nif test -f requirements.txt\n  then\n    sed -i '/jedi/d;/jupyter/d;' ./requirements.txt\n    pip install -r ./requirements.txt\n  else echo \"There's no requirements.txt, so nothing to install. This is the case with most projects.\"\nfi",
   "execution_count": 1,
   "outputs": [
    {
     "name": "stdout",
     "text": "Collecting selenium==3.141.0\n  Downloading selenium-3.141.0-py2.py3-none-any.whl (904 kB)\nCollecting datefinder\n  Downloading datefinder-0.7.1-py2.py3-none-any.whl (10 kB)\nCollecting nltk==3.5\n  Downloading nltk-3.5.zip (1.4 MB)\nRequirement already satisfied: urllib3 in /shared-libs/python3.7/py/lib/python3.7/site-packages (from selenium==3.141.0->-r ./requirements.txt (line 1)) (1.26.6)\nRequirement already satisfied: click in /shared-libs/python3.7/py/lib/python3.7/site-packages (from nltk==3.5->-r ./requirements.txt (line 3)) (7.1.2)\nRequirement already satisfied: joblib in /shared-libs/python3.7/py/lib/python3.7/site-packages (from nltk==3.5->-r ./requirements.txt (line 3)) (1.0.1)\nRequirement already satisfied: regex in /shared-libs/python3.7/py/lib/python3.7/site-packages (from nltk==3.5->-r ./requirements.txt (line 3)) (2021.8.28)\nRequirement already satisfied: tqdm in /shared-libs/python3.7/py/lib/python3.7/site-packages (from nltk==3.5->-r ./requirements.txt (line 3)) (4.62.2)\nRequirement already satisfied: python-dateutil>=2.4.2 in /shared-libs/python3.7/py-core/lib/python3.7/site-packages (from datefinder->-r ./requirements.txt (line 2)) (2.8.2)\nRequirement already satisfied: pytz in /shared-libs/python3.7/py/lib/python3.7/site-packages (from datefinder->-r ./requirements.txt (line 2)) (2021.1)\nRequirement already satisfied: six>=1.5 in /shared-libs/python3.7/py-core/lib/python3.7/site-packages (from python-dateutil>=2.4.2->datefinder->-r ./requirements.txt (line 2)) (1.16.0)\nBuilding wheels for collected packages: nltk\n  Building wheel for nltk (setup.py): started\n  Building wheel for nltk (setup.py): finished with status 'done'\n  Created wheel for nltk: filename=nltk-3.5-py3-none-any.whl size=1434690 sha256=081c476eb6b59b08a42e5036a87f2006168e444a193deb486e0fd9917e4a04e9\n  Stored in directory: /root/.cache/pip/wheels/45/6c/46/a1865e7ba706b3817f5d1b2ff7ce8996aabdd0d03d47ba0266\nSuccessfully built nltk\nInstalling collected packages: selenium, nltk, datefinder\n  Attempting uninstall: nltk\n    Found existing installation: nltk 3.6.2\n    Not uninstalling nltk at /shared-libs/python3.7/py/lib/python3.7/site-packages, outside environment /root/venv\n    Can't uninstall 'nltk'. No files were found to uninstall.\nSuccessfully installed datefinder-0.7.1 nltk-3.5 selenium-3.141.0\nWARNING: You are using pip version 21.2.3; however, version 21.2.4 is available.\nYou should consider upgrading via the '/root/venv/bin/python -m pip install --upgrade pip' command.\n",
     "output_type": "stream"
    }
   ]
  },
  {
   "cell_type": "code",
   "metadata": {
    "tags": [],
    "cell_id": "00002-138d3eb3-c030-46ba-842c-fe77e894fcbd",
    "output_cleared": false,
    "source_hash": "d10481d8",
    "execution_millis": 3871,
    "execution_start": 1632154750478,
    "deepnote_to_be_reexecuted": false,
    "deepnote_cell_type": "code"
   },
   "source": "%%bash\nsudo apt-get update\nsudo apt-get install chromium-driver -y",
   "execution_count": 2,
   "outputs": [
    {
     "name": "stdout",
     "text": "Get:1 http://security.debian.org/debian-security buster/updates InRelease [65.4 kB]\nGet:2 http://deb.debian.org/debian buster InRelease [122 kB]\nGet:3 http://deb.debian.org/debian buster-updates InRelease [51.9 kB]\nReading package lists...\nReading package lists...\nBuilding dependency tree...\nReading state information...\nchromium-driver is already the newest version (87.0.4280.141-0.1~deb10u1).\n0 upgraded, 0 newly installed, 0 to remove and 0 not upgraded.\nE: Repository 'http://security.debian.org/debian-security buster/updates InRelease' changed its 'Suite' value from 'stable' to 'oldstable'\nE: Repository 'http://deb.debian.org/debian buster InRelease' changed its 'Suite' value from 'stable' to 'oldstable'\nE: Repository 'http://deb.debian.org/debian buster-updates InRelease' changed its 'Suite' value from 'stable-updates' to 'oldstable-updates'\n",
     "output_type": "stream"
    }
   ]
  },
  {
   "cell_type": "markdown",
   "source": "<a style='text-decoration:none;line-height:16px;display:flex;color:#5B5B62;padding:10px;justify-content:end;' href='https://deepnote.com?utm_source=created-in-deepnote-cell&projectId=e1eb8707-e803-48f8-a817-7e4e2cfa40a3' target=\"_blank\">\n<img alt='Created in deepnote.com' style='display:inline;max-height:16px;margin:0px;margin-right:7.5px;' src='data:image/svg+xml;base64,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' > </img>\nCreated in <span style='font-weight:600;margin-left:4px;'>Deepnote</span></a>",
   "metadata": {
    "tags": [],
    "created_in_deepnote_cell": true,
    "deepnote_cell_type": "markdown"
   }
  }
 ],
 "nbformat": 4,
 "nbformat_minor": 2,
 "metadata": {
  "orig_nbformat": 2,
  "deepnote_notebook_id": "59bacadc-c154-4e63-afad-a66364c1ebc3",
  "deepnote_execution_queue": [],
  "deepnote": {}
 }
}